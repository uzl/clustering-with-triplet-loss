{
 "cells": [
  {
   "cell_type": "code",
   "execution_count": 1,
   "metadata": {},
   "outputs": [
    {
     "name": "stderr",
     "output_type": "stream",
     "text": [
      "Using TensorFlow backend.\n"
     ]
    }
   ],
   "source": [
    "import tensorflow as tf\n",
    "tf.set_random_seed(1)\n",
    "import cv2\n",
    "from keras.models import Model\n",
    "from keras.layers import Input, merge\n",
    "from keras.optimizers import Adam\n",
    "from fr_utils import *\n",
    "from inception_blocks_v2 import *"
   ]
  },
  {
   "cell_type": "code",
   "execution_count": 23,
   "metadata": {},
   "outputs": [],
   "source": [
    "from pprint import pprint\n",
    "import matplotlib.pyplot as plt\n",
    "from keras.utils import to_categorical"
   ]
  },
  {
   "cell_type": "code",
   "execution_count": 5,
   "metadata": {},
   "outputs": [],
   "source": [
    "\n",
    "\n",
    "ALPHA = 0.2  # Triplet Loss Parameter\n",
    "\n",
    "# Source: https://github.com/davidsandberg/facenet/blob/master/src/facenet.py\n",
    "def triplet_loss(x):\n",
    "    anchor, positive, negative = x\n",
    "\n",
    "    pos_dist = tf.reduce_sum(tf.square(tf.subtract(anchor, positive)), 1)\n",
    "    neg_dist = tf.reduce_sum(tf.square(tf.subtract(anchor, negative)), 1)\n",
    "\n",
    "    basic_loss = tf.add(tf.subtract(pos_dist, neg_dist), ALPHA)\n",
    "    loss = tf.reduce_mean(tf.maximum(basic_loss, 0.0), 0)\n",
    "\n",
    "    return loss\n",
    "\n",
    "# Builds an embedding for each example (i.e., positive, negative, anchor)\n",
    "# Then calculates the triplet loss between their embedding.\n",
    "# Then applies identity loss on the triplet loss value to minimize it on training.\n",
    "def build_model(input_shape):\n",
    "    # Standardizing the input shape order\n",
    "    K.set_image_dim_ordering('th')\n",
    "\n",
    "    positive_example = Input(shape=input_shape)\n",
    "    negative_example = Input(shape=input_shape)\n",
    "    anchor_example = Input(shape=input_shape)\n",
    "\n",
    "    # Create Common network to share the weights along different examples (+/-/Anchor)\n",
    "    embedding_network = faceRecoModel(input_shape)\n",
    "\n",
    "    positive_embedding = embedding_network(positive_example)\n",
    "    negative_embedding = embedding_network(negative_example)\n",
    "    anchor_embedding = embedding_network(anchor_example)\n",
    "\n",
    "    loss = merge([anchor_embedding, positive_embedding, negative_embedding],\n",
    "                 mode=triplet_loss, output_shape=(1,))\n",
    "    model = Model(inputs=[anchor_example, positive_example, negative_example],\n",
    "                  outputs=loss)\n",
    "    model.compile(loss='mean_absolute_error', optimizer=Adam())\n",
    "\n",
    "    return model\n",
    "\n",
    "# When fitting the model (i.e., model.fit()); use as an input [anchor_example,\n",
    "# positive_example, negative_example] in that order and as an output zero.\n",
    "# The reason to use the output as zero is that you are trying to minimize the \n",
    "# triplet loss as much as possible and the minimum value of the loss is zero."
   ]
  },
  {
   "cell_type": "code",
   "execution_count": null,
   "metadata": {},
   "outputs": [],
   "source": []
  },
  {
   "cell_type": "code",
   "execution_count": 6,
   "metadata": {
    "scrolled": false
   },
   "outputs": [
    {
     "name": "stderr",
     "output_type": "stream",
     "text": [
      "/home/uzzal/anaconda3/envs/face/lib/python3.6/site-packages/ipykernel_launcher.py:36: UserWarning: The `merge` function is deprecated and will be removed after 08/2017. Use instead layers from `keras.layers.merge`, e.g. `add`, `concatenate`, etc.\n",
      "/home/uzzal/anaconda3/envs/face/lib/python3.6/site-packages/keras/legacy/layers.py:458: UserWarning: The `Merge` layer is deprecated and will be removed after 08/2017. Use instead layers from `keras.layers.merge`, e.g. `add`, `concatenate`, etc.\n",
      "  name=name)\n"
     ]
    }
   ],
   "source": [
    "fmodel = build_model(input_shape=(3, 96, 96))"
   ]
  },
  {
   "cell_type": "code",
   "execution_count": 140,
   "metadata": {},
   "outputs": [],
   "source": [
    "m = 5\n",
    "\n",
    "x  = []\n",
    "y = []\n",
    "for i in range(m):\n",
    "    a = np.random.random( (1, 3, 96, 96) )\n",
    "    b = np.random.random( (1, 3, 96, 96) )\n",
    "    c = np.random.random( (1, 3, 96, 96) )\n",
    "    x.append([a,b,c])\n",
    "    \n",
    "    y.append(np.zeros((1,1)) )\n",
    "\n",
    "# x = np.array(x)\n",
    "# y = np.array(y)"
   ]
  },
  {
   "cell_type": "code",
   "execution_count": 142,
   "metadata": {
    "scrolled": true
   },
   "outputs": [],
   "source": [
    "# for i in range(m):\n",
    "#     fmodel.fit(x[i],y[i], epochs=3 )"
   ]
  },
  {
   "cell_type": "code",
   "execution_count": null,
   "metadata": {},
   "outputs": [],
   "source": []
  },
  {
   "cell_type": "code",
   "execution_count": null,
   "metadata": {
    "scrolled": true
   },
   "outputs": [],
   "source": []
  },
  {
   "cell_type": "code",
   "execution_count": null,
   "metadata": {},
   "outputs": [],
   "source": []
  },
  {
   "cell_type": "code",
   "execution_count": null,
   "metadata": {
    "scrolled": true
   },
   "outputs": [],
   "source": []
  },
  {
   "cell_type": "code",
   "execution_count": null,
   "metadata": {
    "scrolled": false
   },
   "outputs": [],
   "source": []
  }
 ],
 "metadata": {
  "kernelspec": {
   "display_name": "Python 3",
   "language": "python",
   "name": "python3"
  },
  "language_info": {
   "codemirror_mode": {
    "name": "ipython",
    "version": 3
   },
   "file_extension": ".py",
   "mimetype": "text/x-python",
   "name": "python",
   "nbconvert_exporter": "python",
   "pygments_lexer": "ipython3",
   "version": "3.6.7"
  }
 },
 "nbformat": 4,
 "nbformat_minor": 2
}
