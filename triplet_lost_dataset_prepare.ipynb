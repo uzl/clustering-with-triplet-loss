{
 "cells": [
  {
   "cell_type": "code",
   "execution_count": 1,
   "metadata": {},
   "outputs": [
    {
     "name": "stderr",
     "output_type": "stream",
     "text": [
      "Using TensorFlow backend.\n"
     ]
    }
   ],
   "source": [
    "from keras.datasets import mnist\n",
    "import numpy as np\n",
    "import matplotlib.pyplot as plt\n",
    "import random\n",
    "import cv2\n",
    "from tqdm import tqdm"
   ]
  },
  {
   "cell_type": "code",
   "execution_count": 2,
   "metadata": {},
   "outputs": [],
   "source": [
    "(train_x, trin_y), (test_x, test_y) = mnist.load_data()"
   ]
  },
  {
   "cell_type": "code",
   "execution_count": 3,
   "metadata": {},
   "outputs": [
    {
     "name": "stdout",
     "output_type": "stream",
     "text": [
      "0 4932\n",
      "1 5678\n",
      "2 4968\n",
      "3 5101\n",
      "4 4859\n",
      "5 4506\n",
      "6 4951\n",
      "7 5175\n",
      "8 4842\n",
      "9 4988\n"
     ]
    }
   ],
   "source": [
    "class_img_mapping = dict()\n",
    "\n",
    "for i in range(50000):\n",
    "    class_id = trin_y[i]\n",
    "    img_id = i\n",
    "    tmp_list = class_img_mapping.get(class_id, [])\n",
    "    tmp_list.append(img_id)\n",
    "    class_img_mapping[class_id] = tmp_list\n",
    "    \n",
    "for k, v in class_img_mapping.items():\n",
    "    print (k, len(v))"
   ]
  },
  {
   "cell_type": "code",
   "execution_count": 7,
   "metadata": {
    "scrolled": false
   },
   "outputs": [
    {
     "name": "stderr",
     "output_type": "stream",
     "text": [
      "100%|██████████| 5000/5000 [00:00<00:00, 7807.72it/s]\n"
     ]
    }
   ],
   "source": [
    "mnist_triplet_dataset = []\n",
    "\n",
    "class_number = 10\n",
    "\n",
    "for cntr in tqdm(range(5000)) :\n",
    "    for cls_id in range(class_number):\n",
    "        pos_cls_id = cls_id\n",
    "\n",
    "        neg_cls_id_list = set(range(class_number))\n",
    "        neg_cls_id_list.remove(cls_id)\n",
    "\n",
    "        pos_list = class_img_mapping[pos_cls_id]\n",
    "        a, p = random.sample(pos_list, 2)\n",
    "\n",
    "        neg_list = class_img_mapping[random.choice(list(neg_cls_id_list) )]\n",
    "        n = random.choice(neg_list)\n",
    "        \n",
    "        a_img, p_img, n_img = train_x[a], train_x[p], train_x[n]\n",
    "        mnist_triplet_dataset.append([a_img, p_img, n_img])\n",
    "#         break\n",
    "#     break\n",
    "\n",
    "np.save('mnist_triplet_dataset.npy', np.array(mnist_triplet_dataset))"
   ]
  },
  {
   "cell_type": "code",
   "execution_count": 9,
   "metadata": {},
   "outputs": [
    {
     "name": "stdout",
     "output_type": "stream",
     "text": [
      "50000\n"
     ]
    }
   ],
   "source": [
    "print(len(mnist_triplet_dataset))"
   ]
  },
  {
   "cell_type": "code",
   "execution_count": 6,
   "metadata": {},
   "outputs": [
    {
     "data": {
      "image/png": "[encoded data removed]",
      "text/plain": [
       "<matplotlib.figure.Figure at 0x7f983ae3b978>"
      ]
     },
     "metadata": {},
     "output_type": "display_data"
    }
   ],
   "source": [
    "fig = plt.figure()\n",
    "row_number = 30\n",
    "\n",
    "for indx, img_data in enumerate (mnist_triplet_dataset[1:30]):\n",
    "    a_img, p_img, n_img = img_data\n",
    "    indx = cls_id * 3\n",
    "    plt.subplot(row_number, 3, indx+1)\n",
    "    plt.imshow(a_img)\n",
    "    plt.subplot(row_number, 3, indx+2)\n",
    "    plt.imshow(p_img)\n",
    "    plt.subplot(row_number, 3, indx+3)\n",
    "    plt.imshow(n_img)\n",
    "    \n",
    "plt.show()"
   ]
  }
 ],
 "metadata": {
  "kernelspec": {
   "display_name": "Python 3",
   "language": "python",
   "name": "python3"
  },
  "language_info": {
   "codemirror_mode": {
    "name": "ipython",
    "version": 3
   },
   "file_extension": ".py",
   "mimetype": "text/x-python",
   "name": "python",
   "nbconvert_exporter": "python",
   "pygments_lexer": "ipython3",
   "version": "3.5.2"
  }
 },
 "nbformat": 4,
 "nbformat_minor": 2
}
